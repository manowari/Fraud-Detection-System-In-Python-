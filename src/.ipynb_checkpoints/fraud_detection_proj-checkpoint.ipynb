{
 "cells": [
  {
   "cell_type": "code",
   "execution_count": 2,
   "id": "9a0bc098",
   "metadata": {},
   "outputs": [
    {
     "name": "stdout",
     "output_type": "stream",
     "text": [
      "First half with headers saved to 'data/raw_data_files/ccfraud.csv'\n"
     ]
    }
   ],
   "source": [
    "import os\n",
    "import utils.my_utils as my_utils\n",
    "\n",
    "\n",
    "\n",
    "\n",
    "my_utils.split_csv_and_retain_first_half('data/raw_data_files/creditcard.csv', 'data/raw_data_files/ccfraud.csv')"
   ]
  },
  {
   "cell_type": "code",
   "execution_count": null,
   "id": "8f8305cf",
   "metadata": {},
   "outputs": [],
   "source": []
  }
 ],
 "metadata": {
  "kernelspec": {
   "display_name": "Python 3 (ipykernel)",
   "language": "python",
   "name": "python3"
  },
  "language_info": {
   "codemirror_mode": {
    "name": "ipython",
    "version": 3
   },
   "file_extension": ".py",
   "mimetype": "text/x-python",
   "name": "python",
   "nbconvert_exporter": "python",
   "pygments_lexer": "ipython3",
   "version": "3.11.4"
  }
 },
 "nbformat": 4,
 "nbformat_minor": 5
}
